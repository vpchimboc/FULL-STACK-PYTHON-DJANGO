{
 "cells": [
  {
   "attachments": {},
   "cell_type": "markdown",
   "metadata": {},
   "source": [
    "# Framework Web Django (Python)"
   ]
  },
  {
   "attachments": {},
   "cell_type": "markdown",
   "metadata": {},
   "source": [
    "Django es un framework web de alto nivel que permite el desarrollo rápido de sitios web seguros y mantenibles. Desarrollado por programadores experimentados, Django se encarga de gran parte de las complicaciones del desarrollo web, por lo que puedes concentrarte en escribir tu aplicación sin necesidad de reinventar la rueda."
   ]
  },
  {
   "attachments": {},
   "cell_type": "markdown",
   "metadata": {},
   "source": [
    "En un sitio web tradicional basado en datos, una aplicación web espera peticiones HTTP del explorador web (o de otro cliente). Cuando se recibe una petición la aplicación elabora lo que se necesita basándose en la URL y posiblemente en la información incluida en los datos POST o GET. Dependiendo de qué se necesita quizás pueda entonces leer o escribir información desde una base de datos o realizar otras tareas requeridas para satisfacer la petición. La aplicación devolverá a continuación una respuesta al explorador web, con frecuencia creando dinámicamente una página HTML para que el explorador la presente insertando los datos recuperados en marcadores de posición dentro de una plantilla HTML.\n",
    "\n",
    "Las aplicaciones web de Django normalmente agrupan el código que gestiona cada uno de estos pasos en ficheros separados:"
   ]
  },
  {
   "attachments": {
    "image.png": {
     "image/png": "[encoded data removed]"
    }
   },
   "cell_type": "markdown",
   "metadata": {},
   "source": [
    "![image.png](attachment:image.png)"
   ]
  },
  {
   "attachments": {},
   "cell_type": "markdown",
   "metadata": {},
   "source": [
    "### URLs: \n",
    "Aunque es posible procesar peticiones de cada URL individual vía una función individual, es mucho más sostenible escribir una función de visualización separada para cada recurso. Se usa un mapeador URL para redirigir las peticiones HTTP a la vista apropiada basándose en la URL de la petición. El mapeador URL se usa para redirigir las peticiones HTTP a la vista apropiada basándose en la URL de la petición. El mapeador URL puede también emparejar patrones de cadenas o dígitos específicos que aparecen en una URL y los pasan a la función de visualización como datos.\n",
    "### Vista (View): \n",
    "Una vista es una función de gestión de peticiones que recibe peticiones HTTP y devuelve respuestas HTTP. Las vistas acceden a los datos que necesitan para satisfacer las peticiones por medio de modelos, y delegan el formateo de la respuesta a las plantillas (\"templates\").\n",
    "### Modelos (Models): \n",
    "Los Modelos son objetos de Python que definen la estructura de los datos de una aplicación y proporcionan mecanismos para gestionar (añadir, modificar y borrar) y consultar registros en la base de datos.\n",
    "### Plantillas (Templates): \n",
    "una plantilla (template) es un fichero de texto que define la estructura o diagrama de otro fichero (tal como una página HTML), con marcadores de posición que se utilizan para representar el contenido real. Una vista puede crear dinámicamente una página usando una plantilla, rellenandola con datos de un modelo. Una plantilla se puede usar para definir la estructura de cualquier tipo de fichero; ¡no tiene porqué ser HTML!"
   ]
  },
  {
   "attachments": {},
   "cell_type": "markdown",
   "metadata": {},
   "source": [
    "## GUÍA COMPLETA"
   ]
  },
  {
   "attachments": {},
   "cell_type": "markdown",
   "metadata": {},
   "source": [
    "<img src='./img/sistema.png'>"
   ]
  },
  {
   "attachments": {},
   "cell_type": "markdown",
   "metadata": {},
   "source": [
    "Crear una aplicación en Django implica seguir una serie de pasos. A continuación, te proporcionaré una guía básica para crear una aplicación utilizando Django:"
   ]
  },
  {
   "cell_type": "markdown",
   "metadata": {},
   "source": [
    "### Paso 1: Configuración del entorno\n",
    "\n"
   ]
  },
  {
   "attachments": {},
   "cell_type": "markdown",
   "metadata": {},
   "source": [
    "- Asegúrate de tener Python instalado en tu sistema. Puedes descargarlo desde el sitio web oficial de [Python](https://www.python.org/). Para comprobar que tienes python realizar el siguiente comando desde la terminal.\n",
    "\n",
    "python --version\n"
   ]
  },
  {
   "attachments": {},
   "cell_type": "markdown",
   "metadata": {},
   "source": [
    "<img src='./img/version.png'>"
   ]
  },
  {
   "attachments": {},
   "cell_type": "markdown",
   "metadata": {},
   "source": [
    "- Instalación de Visual Studio\n",
    "\n",
    "Descarga e instala Visual Studio desde el sitio web oficial de Microsoft: https://visualstudio.microsoft.com/\n",
    "\n",
    "Asegúrate de seleccionar la opción que incluye el soporte para el desarrollo de aplicaciones web con Python."
   ]
  },
  {
   "attachments": {},
   "cell_type": "markdown",
   "metadata": {},
   "source": [
    "### Paso 2: Creación de un proyecto Django\n",
    "\n",
    "- Abre Visual Studio.\n",
    "- Haz clic en \"Archivo\" en la barra de menú y selecciona \"Nuevo\" y luego \"Proyecto\".\n",
    "- En el cuadro de diálogo \"Nuevo proyecto\", selecciona \"Python\" en el panel izquierdo y luego \"Aplicación web de Django\" en el panel derecho.\n",
    "- Asigna un nombre a tu proyecto y selecciona una ubicación para guardarlo.\n",
    "- Haz clic en \"Aceptar\" para crear el proyecto."
   ]
  },
  {
   "attachments": {},
   "cell_type": "markdown",
   "metadata": {},
   "source": [
    "<img src='./img/creacion_proyecto.png'>"
   ]
  },
  {
   "attachments": {},
   "cell_type": "markdown",
   "metadata": {},
   "source": [
    "## Paso 3: Configuración del entorno virtual\n",
    "\n",
    "- Abre una terminal integrada en Visual Studio seleccionando \"Ver\" en la barra de menú y luego \"Terminales\".\n",
    "- En la terminal, ejecuta el siguiente comando para crear un entorno virtual:\n",
    "\n",
    "##### _python -m venv NOMBRE_ENTONO_VIRTUAL_\n",
    "\n",
    "<img src='./img/crear_entorno_virtual.png'>\n",
    "\n",
    "- Una vez creado el entorno virtual, actívalo con el siguiente comando:\n",
    "    - En Windows: venv\\Scripts\\activate\n",
    "    - En macOS/Linux: source venv/bin/activate\n",
    "    <img src='./img/activate.png'>\n",
    "    "
   ]
  },
  {
   "attachments": {},
   "cell_type": "markdown",
   "metadata": {},
   "source": [
    "## Paso 4: Instalación de Django\n",
    "\n",
    "- Asegúrate de que tu entorno virtual esté activado.\n",
    "- En la terminal, ejecuta el siguiente comando para instalar Django: \n",
    "    \n",
    "    ### _pip install django_\n",
    "    \n",
    "- Asegúrate de estar ubicado dentro de la carpeta Scripts del entorno virtual en la terminal. Puedes usar el comando cd para navegar a la carpeta correcta si es necesario.\n",
    "<img src='./img/instalacion1.png'>\n",
    "\n",
    "- Puedes verificar si la instalación fue exitosa ejecutando el siguiente comando:\n",
    "  ### _python -m django --version_\n",
    "\n",
    "<img src='./img/versiondjango.png'>\n",
    "  \n",
    "\n",
    "    \n",
    "\n",
    "\n"
   ]
  },
  {
   "attachments": {},
   "cell_type": "markdown",
   "metadata": {},
   "source": [
    "## Paso 5: Creación de un proyecto\n",
    "\n",
    "Ejecuta el siguiente comando para crear un nuevo proyecto Django: \n",
    "\n",
    "### _django-admin startproject nombre_proyecto_\n",
    "\n",
    "<img src='./img/creacion_proyecto1.png'>\n",
    "\n"
   ]
  },
  {
   "attachments": {},
   "cell_type": "markdown",
   "metadata": {},
   "source": [
    "## Paso 6: Crear una aplicación Django\n",
    "\n",
    "En la misma terminal, dentro del directorio del proyecto, ejecuta el siguiente comando para crear una nueva aplicación: \n",
    "### _python manage.py startapp nombre_aplicacion_\n",
    "<img src='./img/app1.png'>\n",
    "\n",
    "- En la terminal, dentro del directorio del proyecto, ejecuta el siguiente comando para iniciar el servidor de desarrollo de Django: python manage.py runserver.\n",
    "\n",
    "### _python manage.py runserver_\n",
    "\n",
    "<img src='./img/ejecutar.png'>\n",
    "\n",
    "- Abre tu navegador web y visita http://127.0.0.1:8000/ para ver tu aplicación.\n",
    "\n",
    "<img src='./img/runserver.png'>"
   ]
  },
  {
   "attachments": {},
   "cell_type": "markdown",
   "metadata": {},
   "source": [
    "## Paso 7: Definir modelos\n",
    "\n",
    "- Abre el archivo models.py dentro de la carpeta de tu aplicación.\n",
    "- Define los modelos de datos necesarios para administrar historiales.\n",
    "\n",
    "Para el desarrollo del ejercicio que estamos aplicando debe de resolver el siguiente diagrama.\n",
    "<img src='./img/esquema1.png'>\n",
    "\n",
    "Colocar ese código en models.py de la aplicación creada app\n"
   ]
  },
  {
   "cell_type": "code",
   "execution_count": null,
   "metadata": {},
   "outputs": [],
   "source": [
    "from django.db import models\n",
    "\n",
    "# Create your models here.\n",
    "\n",
    "from datetime import date\n",
    "from django.contrib.auth.models import AbstractUser\n",
    "\n",
    "class User(AbstractUser):\n",
    "    dni = models.CharField('N de documento', max_length=13, unique=True, blank=False, null=False)\n",
    "    fecha_nacimiento = models.DateField(\"Fecha de nacimiento\", default=date.today, null=False, blank=False)\n",
    "    telefono = models.CharField('Teléfono', max_length=10, blank=True, null=True)\n",
    "    celular = models.CharField('Celular', max_length=10, blank=True, null=True)\n",
    "    direccion = models.CharField('Dirección', max_length=40, blank=True, null=True)\n",
    "    genero = models.PositiveIntegerField(\"Género\", choices=[(1, \"MASCULINO\"), (2, \"FEMENINO\")], default=1)\n",
    "    tipo = models.PositiveIntegerField(\"Tipo\", choices=[(1, \"ENFERMERA/O\"), (2, \"MÉDICO\")], default=1)\n",
    "\n",
    "    def __str__(self):\n",
    "        return '{0} {1}'.format(self.first_name, self.last_name)\n",
    "\n",
    "    class Meta:\n",
    "        db_table = 'usuario'\n",
    "        \n",
    "\n",
    "class Paciente(models.Model):\n",
    "    nombre = models.CharField(\"Nombres\", max_length=65, null=False, blank=False)\n",
    "    apellido = models.CharField(\"Apellidos\", max_length=65, null=False, blank=False)\n",
    "    dni = models.CharField('N de documento', max_length=10, unique=True, blank=False, null=False)\n",
    "    fecha_nacimiento = models.DateField(\"Fecha de nacimiento\", default=date.today, null=False, blank=False)\n",
    "    genero = models.PositiveIntegerField(\"Género\", choices=[(1, \"MASCULINO\"), (2, \"FEMENINO\")], default=1)\n",
    "    email = models.EmailField(\"Correo electrónico\", max_length=45, unique=True, blank=True, null=True)\n",
    "    telefono = models.CharField(\"Teléfono\", max_length=10, blank=True, null=True)\n",
    "    celular = models.CharField(\"Celular\", max_length=10, blank=True, null=True)\n",
    "    direccion = models.CharField(\"Dirección\", max_length=60, null=True, blank=True)\n",
    "    estado = models.BooleanField(\"Estado\", default=True)\n",
    "    fecha_registro = models.DateTimeField('Fecha de registro', auto_now=False, auto_now_add=True)\n",
    "\n",
    "    def __str__(self):\n",
    "        return '{0} {1}'.format(self.nombre, self.apellido)\n",
    "\n",
    "\n",
    "    class Meta:\n",
    "        db_table = 'paciente'\n",
    "\n",
    "\n",
    "class Ficha_Medica(models.Model):\n",
    "    paciente = models.ForeignKey(Paciente, on_delete=models.PROTECT, verbose_name=\"Paciente\", related_name=\"ficha_medica_paciente\")\n",
    "    fecha = models.DateField(\"Fecha\", default=date.today, null=False, blank=False)\n",
    "    diagnostico = models.CharField(\"Diagnostico\", max_length=200, blank=False, null=False)\n",
    "    tratamiento = models.CharField(\"Tratamiento\", max_length=200, blank=False, null=False)\n",
    "    observacion = models.CharField(\"Observación\", max_length=100, blank=True, null=True)\n",
    "    alta = models.BooleanField(\"Dado de alta\", default=False)\n",
    "    estado = models.BooleanField(\"Estado\", default=True)\n",
    "    fecha_registro = models.DateTimeField('Fecha de registro', auto_now=False, auto_now_add=True)\n",
    "\n",
    "    def __str__(self):\n",
    "        return '{0} {1} {2}'.format(self.paciente.nombre, self.paciente.apellido, self.paciente.dni)\n",
    "\n",
    "\n",
    "    class Meta:\n",
    "        db_table = 'ficha_medica'\n",
    "\n",
    "\n",
    "class Consulta(models.Model):\n",
    "    paciente = models.ForeignKey(Paciente, on_delete=models.PROTECT, verbose_name=\"Paciente\", related_name=\"consulta_paciente\")\n",
    "    fecha = models.DateField(\"Fecha\", default=date.today, null=False, blank=False)\n",
    "    motivo = models.CharField(\"Motivo\", max_length=200, blank=False, null=False)\n",
    "    observacion = models.CharField(\"Observación\", max_length=100, blank=True, null=True)\n",
    "    estado = models.BooleanField(\"Estado\", default=True)\n",
    "    fecha_registro = models.DateTimeField('Fecha de registro', auto_now=False, auto_now_add=True)\n",
    "\n",
    "    def __str__(self):\n",
    "        return '{0} {1} {2}'.format(self.paciente.nombre, self.paciente.apellido, self.paciente.dni)\n",
    "\n",
    "\n",
    "    class Meta:\n",
    "        db_table = 'consulta'"
   ]
  },
  {
   "attachments": {},
   "cell_type": "markdown",
   "metadata": {},
   "source": [
    "### Descripción de los modelos\n",
    "\n",
    "- __User (Usuario):__ Este modelo hereda de AbstractUser proporcionado por Django para agregar campos personalizados al modelo de usuario predeterminado. Los campos adicionales incluyen dni (número de documento), fecha_nacimiento (fecha de nacimiento), telefono (número de teléfono), celular (número de celular), direccion (dirección), genero (género) y tipo (tipo de usuario, como \"ENFERMERA/O\" o \"MÉDICO\").\n",
    "    - dni: Es un campo de tipo CharField que representa el número de documento. Tiene una etiqueta (etiqueta descriptiva que se mostrará en los formularios), una longitud máxima de 13 caracteres, y se establece como único (no puede haber duplicados). También se especifica que no puede estar en blanco (blank=False) y no puede ser nulo (null=False).\n",
    "\n",
    "    - fecha_nacimiento: Es un campo de tipo DateField que representa la fecha de nacimiento. Tiene una etiqueta, se establece un valor predeterminado (default=date.today que asigna la fecha actual como valor predeterminado), y se especifica que no puede estar en blanco y no puede ser nulo.\n",
    "\n",
    "    - telefono: Es un campo de tipo CharField que representa el número de teléfono. Tiene una etiqueta, una longitud máxima de 10 caracteres, y se permite que esté en blanco (blank=True) y sea nulo (null=True).\n",
    "\n",
    "    - celular: Es similar al campo telefono, pero representa el número de celular.\n",
    "\n",
    "    - direccion: Es un campo de tipo CharField que representa la dirección. Tiene una etiqueta y una longitud máxima de 40 caracteres. Al igual que los campos telefono y celular, se permite que esté en blanco y sea nulo.\n",
    "\n",
    "    - genero: Es un campo de tipo PositiveIntegerField que representa el género. Se utiliza una selección de opciones para definir los posibles valores. Las opciones son \"MASCULINO\" y \"FEMENINO\", representados por los valores 1 y 2 respectivamente. Se establece un valor predeterminado de 1 (MASCULINO).\n",
    "\n",
    "    - tipo: Es similar al campo genero, pero representa el tipo de usuario (por ejemplo, \"ENFERMERA/O\" o \"MÉDICO\"). También tiene una selección de opciones con un valor predeterminado de 1.\n",
    "\n",
    "- __Paciente:__ Este modelo representa a un paciente. Tiene campos como nombre, apellido, dni, fecha_nacimiento, genero, email, telefono, celular, direccion, estado (estado del paciente) y fecha_registro (fecha de registro).\n",
    "\n",
    "    - nombre: Es un campo de tipo CharField que representa los nombres del paciente. Tiene una etiqueta descriptiva, una longitud máxima de 65 caracteres y se especifica que no puede estar en blanco (blank=False) y no puede ser nulo (null=False).\n",
    "\n",
    "    - apellido: Es similar al campo nombre, pero representa los apellidos del paciente.\n",
    "\n",
    "    - dni: Es un campo de tipo CharField que representa el número de documento del paciente. Tiene una etiqueta descriptiva, una longitud máxima de 10 caracteres y se especifica que debe ser único (unique=True), no puede estar en blanco y no puede ser nulo.\n",
    "\n",
    "    - fecha_nacimiento: Es un campo de tipo DateField que representa la fecha de nacimiento del paciente. Tiene una etiqueta descriptiva, un valor predeterminado que asigna la fecha actual como valor predeterminado, y se especifica que no puede estar en blanco y no puede ser nulo.\n",
    "\n",
    "    - genero: Es un campo de tipo PositiveIntegerField que representa el género del paciente. Se utiliza una selección de opciones para definir los posibles valores. Las opciones son \"MASCULINO\" y \"FEMENINO\", representados por los valores 1 y 2 respectivamente. Se establece un valor predeterminado de 1 (MASCULINO).\n",
    "\n",
    "    - email: Es un campo de tipo EmailField que representa el correo electrónico del paciente. Tiene una etiqueta descriptiva, una longitud máxima de 45 caracteres, se especifica que debe ser único, y se permite que esté en blanco y sea nulo.\n",
    "\n",
    "    - telefono: Es un campo de tipo CharField que representa el número de teléfono del paciente. Tiene una etiqueta descriptiva, una longitud máxima de 10 caracteres, y se permite que esté en blanco y sea nulo.\n",
    "\n",
    "    - celular: Es similar al campo telefono, pero representa el número de celular del paciente.\n",
    "\n",
    "    - direccion: Es un campo de tipo CharField que representa la dirección del paciente. Tiene una etiqueta descriptiva, una longitud máxima de 60 caracteres, y se permite que esté en blanco y sea nulo.\n",
    "\n",
    "    - estado: Es un campo de tipo BooleanField que representa el estado del paciente. Se establece un valor predeterminado de True, lo que significa que el paciente está activo.\n",
    "\n",
    "    - fecha_registro: Es un campo de tipo DateTimeField que representa la fecha y hora de registro del paciente. Se establece como auto_now_add=True, lo que significa que se establecerá automáticamente con la fecha y hora actual cuando se cree un nuevo registro.\n",
    "\n",
    "- __Ficha_Medica:__ Este modelo representa la ficha médica de un paciente. Tiene una relación de clave externa con el modelo Paciente. Los campos incluyen paciente (relación con el paciente), fecha (fecha de la ficha médica), diagnostico, tratamiento, observacion, alta (indicador de alta médica), estado (estado de la ficha médica) y fecha_registro (fecha de registro).\n",
    "\n",
    "    - paciente: Es un campo de tipo ForeignKey que establece una relación con el modelo Paciente. Indica que cada ficha médica está asociada a un paciente en particular. Se utiliza el argumento on_delete=models.PROTECT para especificar que si se intenta eliminar el paciente asociado a una ficha médica, se producirá un error de protección y no se permitirá la eliminación. Se establece una etiqueta descriptiva (verbose_name=\"Paciente\") y un atributo related_name=\"ficha_medica_paciente\" para acceder a las fichas médicas a través del objeto paciente.\n",
    "\n",
    "    - fecha: Es un campo de tipo DateField que representa la fecha de la ficha médica. Tiene una etiqueta descriptiva, se establece un valor predeterminado que asigna la fecha actual, y se especifica que no puede estar en blanco y no puede ser nulo.\n",
    "\n",
    "    - diagnostico: Es un campo de tipo CharField que representa el diagnóstico en la ficha médica. Tiene una etiqueta descriptiva, una longitud máxima de 200 caracteres y se especifica que no puede estar en blanco y no puede ser nulo.\n",
    "\n",
    "    - tratamiento: Es un campo de tipo CharField que representa el tratamiento en la ficha médica. Tiene una etiqueta descriptiva, una longitud máxima de 200 caracteres y se especifica que no puede estar en blanco y no puede ser nulo.\n",
    "\n",
    "    - observacion: Es un campo de tipo CharField que representa las observaciones adicionales en la ficha médica. Tiene una etiqueta descriptiva, una longitud máxima de 100 caracteres y se permite que esté en blanco y sea nulo.\n",
    "\n",
    "    - alta: Es un campo de tipo BooleanField que indica si el paciente ha sido dado de alta o no. Se establece un valor predeterminado de False.\n",
    "\n",
    "    - estado: Es un campo de tipo BooleanField que representa el estado de la ficha médica. Se establece un valor predeterminado de True, lo que significa que la ficha médica está activa.\n",
    "\n",
    "    - fecha_registro: Es un campo de tipo DateTimeField que representa la fecha y hora de registro de la ficha médica. Se establece como auto_now_add=True, lo que significa que se establecerá automáticamente con la fecha y hora actual cuando se cree una nueva ficha médica.\n",
    "\n",
    "- __Consulta:__ Este modelo representa una consulta médica realizada a un paciente. También tiene una relación de clave externa con el modelo Paciente. Los campos incluyen paciente (relación con el paciente), fecha (fecha de la consulta), motivo, observacion, estado (estado de la consulta) y fecha_registro (fecha de registro).\n",
    "\n",
    "    - paciente: Es un campo de tipo ForeignKey que establece una relación con el modelo Paciente. Indica que cada consulta está asociada a un paciente en particular. Se utiliza el argumento on_delete=models.PROTECT para especificar que si se intenta eliminar el paciente asociado a una consulta, se producirá un error de protección y no se permitirá la eliminación. Se establece una etiqueta descriptiva (verbose_name=\"Paciente\") y un atributo related_name=\"consulta_paciente\" para acceder a las consultas a través del objeto paciente.\n",
    "\n",
    "    - fecha: Es un campo de tipo DateField que representa la fecha de la consulta. Tiene una etiqueta descriptiva, se establece un valor predeterminado que asigna la fecha actual, y se especifica que no puede estar en blanco y no puede ser nulo.\n",
    "\n",
    "    - motivo: Es un campo de tipo CharField que representa el motivo de la consulta. Tiene una etiqueta descriptiva, una longitud máxima de 200 caracteres y se especifica que no puede estar en blanco y no puede ser nulo.\n",
    "\n",
    "    - observacion: Es un campo de tipo CharField que representa las observaciones adicionales de la consulta. Tiene una etiqueta descriptiva, una longitud máxima de 100 caracteres y se permite que esté en blanco y sea nulo.\n",
    "\n",
    "    - estado: Es un campo de tipo BooleanField que representa el estado de la consulta. Se establece un valor predeterminado de True, lo que significa que la consulta está activa.\n",
    "\n",
    "    - fecha_registro: Es un campo de tipo DateTimeField que representa la fecha y hora de registro de la consulta. Se establece como auto_now_add=True, lo que significa que se establecerá automáticamente con la fecha y hora actual cuando se cree una nueva consulta.\n",
    "\n",
    "Cada modelo tiene una implementación del método __str__ para devolver una representación legible del objeto en forma de cadena. También se establece el atributo db_table para especificar los nombres de tabla personalizados en la base de datos.\n",
    "\n",
    "La clase __Meta__ de los modelos se utiliza para especificar el nombre de la tabla en la base de datos que corresponde a cada modelo a traves de atributo db_table.\n",
    "\n",
    "Estos modelos se utilizan para crear tablas en la base de datos y realizar operaciones de creación, lectura, actualización y eliminación (CRUD) en los registros de la base de datos a través de las consultas de Django.\n",
    "\n",
    "<img src='./img/models.png'>"
   ]
  },
  {
   "attachments": {},
   "cell_type": "markdown",
   "metadata": {},
   "source": [
    "## Paso 8: Realizar migraciones\n",
    "Ahora realizaremos las migraciones de base de datos.\n",
    "Como sobreescribimos la clase __AbstractUser__ en el modelo, en el archivo settings.py debemos de agregar la siguiente línea de comandos despues de DEBUG = True, adicionalmente se debe de agregar el nombre de la aplición en INSTALLED_APPS:\n",
    "\n",
    "__AUTH_USER_MODEL = 'app.User'__ \n",
    "\n",
    "<img src='./img/setting_migracion.png'>\n",
    "\n",
    "En la terminal, dentro del directorio del proyecto, ejecuta los siguientes comandos para realizar las migraciones de los modelos:\n",
    "\n",
    "__python manage.py makemigrations__ (crea las migraciones)\n",
    "\n",
    "<img src='./img/migrations.png'>\n",
    "\n",
    "Este comando es utilizado para generar las migraciones de base de datos a partir de los modelos definidos en tu aplicación Django. Las migraciones son archivos Python que describen los cambios en la estructura de la base de datos, como la creación de nuevas tablas, la adición o modificación de columnas, etc. Al ejecutar este comando, Django examinará tus modelos y generará las migraciones necesarias en función de las diferencias detectadas entre los modelos y las migraciones existentes.\n",
    "\n",
    "__python manage.py migrate__(aplica las migraciones a la base de datos)\n",
    "\n",
    "Este comando es utilizado para aplicar las migraciones pendientes a la base de datos. Django ejecutará las migraciones en orden y realizará los cambios correspondientes en la estructura de la base de datos. Este comando también registra el estado de las migraciones aplicadas en la tabla de control de migraciones de Django, lo que permite realizar un seguimiento de las migraciones aplicadas y mantener la base de datos actualizada con la estructura definida en los modelos.\n",
    "\n",
    "<img src='./img/migrate1.png'>"
   ]
  },
  {
   "attachments": {},
   "cell_type": "markdown",
   "metadata": {},
   "source": [
    "## Paso 9: Verificar nuestro modelo a traves del administrador de Django\n",
    "\n",
    "- Asegúrate de que tienes tu modelo registrado en el archivo admin.py de tu aplicación. Si aún no lo has hecho, abre el archivo admin.py en la carpeta de tu aplicación y agrega las líneas correspondientes para registrar tu modelo."
   ]
  },
  {
   "cell_type": "code",
   "execution_count": null,
   "metadata": {},
   "outputs": [],
   "source": [
    "\n",
    "from django.contrib import admin\n",
    "from app.models import User,Paciente,Ficha_Medica,Consulta\n",
    "# Register your models here.\n",
    "\n",
    "admin.site.register(User)\n",
    "admin.site.register(Paciente)\n",
    "admin.site.register(Ficha_Medica)\n",
    "admin.site.register(Consulta)"
   ]
  },
  {
   "attachments": {},
   "cell_type": "markdown",
   "metadata": {},
   "source": [
    "<img src='./img/registrar_modelo.png'>"
   ]
  },
  {
   "attachments": {},
   "cell_type": "markdown",
   "metadata": {},
   "source": [
    "También podemos modificar el lenguaje de nuestra aplicación configurando en el archivo settings.py en la lía de LANGUAJE_CODE='es-ES'"
   ]
  },
  {
   "attachments": {},
   "cell_type": "markdown",
   "metadata": {},
   "source": [
    "- El siguiente paso es crear un superusuario para ingresar al administrador de Django.\n",
    "    -En la terminal dentro del proyecto agregar la siguiente línea de comandos para agregar un super usuario:\n",
    "\n",
    "    __python manage.py createsuperuser__\n",
    "\n",
    "    - Se te pedirá que ingreses un nombre de usuario para el superusuario. Escribe el nombre de usuario deseado y presiona Enter.\n",
    "    - A continuación, se te pedirá que ingreses una dirección de correo electrónico para el superusuario. Puedes ingresar un correo electrónico válido o dejarlo en blanco presionando Enter.\n",
    "    - Luego, se te pedirá que ingreses una contraseña para el superusuario. Escribe una contraseña segura y presiona Enter. La contraseña no se mostrará en la pantalla mientras la escribes.\n",
    "    - Finalmente, se te pedirá que confirmes la contraseña ingresándola nuevamente. Escribe la misma contraseña y presiona Enter.\n",
    "<img src='./img/superusuario.png'>\n",
    "\n"
   ]
  },
  {
   "attachments": {},
   "cell_type": "markdown",
   "metadata": {},
   "source": [
    "Para verificar nuestros modelos debemos de ejecutar nuevamente el servidor y acceder a la web con el siguiente url http://127.0.0.1:8000/admin/ \n",
    "<img src='./img/admin.png'>\n",
    "\n",
    "__Administrador de Dajango__\n",
    "\n",
    "<img src='./img/adminDjango.png'>\n"
   ]
  }
 ],
 "metadata": {
  "kernelspec": {
   "display_name": "Python 3 (ipykernel)",
   "language": "python",
   "name": "python3"
  },
  "language_info": {
   "codemirror_mode": {
    "name": "ipython",
    "version": 3
   },
   "file_extension": ".py",
   "mimetype": "text/x-python",
   "name": "python",
   "nbconvert_exporter": "python",
   "pygments_lexer": "ipython3",
   "version": "3.9.16"
  }
 },
 "nbformat": 4,
 "nbformat_minor": 4
}
