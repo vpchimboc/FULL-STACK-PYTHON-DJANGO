{
 "cells": [
  {
   "cell_type": "markdown",
   "metadata": {},
   "source": [
    "# Generación de Módulos"
   ]
  },
  {
   "cell_type": "markdown",
   "metadata": {},
   "source": [
    "<img src=https://3.bp.blogspot.com/-LSDB9uldh4k/XEvKWoSFTMI/AAAAAAAAHl4/izzGuCNN_OY_wWIOiw8RdP_w0EfPmge0ACLcBGAs/s1600/Package-Module-Structure.png width=600>"
   ]
  },
  {
   "cell_type": "markdown",
   "metadata": {},
   "source": [
    "Crear un módulo en Python es tan sencillo como crear un script, sólo tenemos que añadir alguna función a un fichero con la extensión <code>.py</code>, por ejemplo <code>saludos.py</code>:"
   ]
  },
  {
   "cell_type": "code",
   "execution_count": null,
   "metadata": {},
   "outputs": [],
   "source": [
    "def saludar():\n",
    "    print(\"Hola, te estoy saludando desde la función saludar() \" \\\n",
    "            \"del módulo saludos\")"
   ]
  },
  {
   "cell_type": "markdown",
   "metadata": {},
   "source": [
    "Luego ya podremos utilizarlo desde otro script,por ejemplo <code>script.py</code>, en el mismo directorio haciendo un import y el nombre del módulo:"
   ]
  },
  {
   "cell_type": "code",
   "execution_count": null,
   "metadata": {},
   "outputs": [],
   "source": [
    "import saludos\n",
    "\n",
    "saludos.saludar()"
   ]
  },
  {
   "cell_type": "markdown",
   "metadata": {},
   "source": [
    "También podemos importar funciones directamente, de esta forma ahorraríamos memoria. Podemos hacerlo utilizando la sintaxis from import:"
   ]
  },
  {
   "cell_type": "code",
   "execution_count": null,
   "metadata": {},
   "outputs": [],
   "source": [
    "from saludos import saludar\n",
    "\n",
    "saludar()"
   ]
  },
  {
   "cell_type": "markdown",
   "metadata": {},
   "source": [
    "Para importar todas las funciones con la sintaxis from import debemos poner un asterisco:"
   ]
  },
  {
   "cell_type": "code",
   "execution_count": null,
   "metadata": {},
   "outputs": [],
   "source": [
    "from saludos import *\n",
    "\n",
    "saludar()"
   ]
  },
  {
   "cell_type": "markdown",
   "metadata": {},
   "source": [
    "Dicho esto, a parte de funciones también podemos reutilizar clases:\n"
   ]
  },
  {
   "cell_type": "code",
   "execution_count": null,
   "metadata": {},
   "outputs": [],
   "source": [
    "class Saludo():\n",
    "    def __init__(self):\n",
    "        print(\"Hola, te estoy saludando desde el __init__ \" \\\n",
    "                \"de la clase Saludo\")"
   ]
  },
  {
   "cell_type": "markdown",
   "metadata": {},
   "source": [
    "Igual que antes, tendremos que llamar primero al módulo para referirnos a la clase:"
   ]
  },
  {
   "cell_type": "code",
   "execution_count": null,
   "metadata": {},
   "outputs": [],
   "source": [
    "import saludos\n",
    "\n",
    "s = saludos.Saludo()"
   ]
  },
  {
   "cell_type": "markdown",
   "metadata": {},
   "source": [
    "O cargar solo una clase con el from import:"
   ]
  },
  {
   "cell_type": "code",
   "execution_count": null,
   "metadata": {},
   "outputs": [],
   "source": [
    "from saludos import Saludo\n",
    "\n",
    "s = Saludo()"
   ]
  },
  {
   "cell_type": "markdown",
   "metadata": {},
   "source": [
    "El problema ocurre cuando queremos utilizar nuestro módulo desde un directorio distinto por ejemplo test/script.py."
   ]
  },
  {
   "attachments": {},
   "cell_type": "markdown",
   "metadata": {},
   "source": [
    "## EJERCICIO EN CLASES\n",
    "Desarrollar un programa que permita gestionar el historial clínico de pacientes en una clínica. El programa deberá utilizar dos clases: Paciente y Historial.\n",
    "\n",
    "La clase Paciente deberá tener los siguientes atributos:\n",
    "nombre: el nombre del paciente.\n",
    "edad: la edad del paciente.\n",
    "género: el género del paciente.\n",
    "historial: un objeto de la clase Historial que contiene la información médica del paciente.\n",
    "La clase Paciente deberá tener los siguientes métodos:\n",
    "\n",
    "agregar_historial(sintomas, diagnostico, tratamiento): agrega una entrada al historial del paciente con la información médica especificada.\n",
    "mostrar_historial(): muestra por pantalla todas las entradas del historial del paciente.\n",
    "La clase Historial deberá tener los siguientes atributos:\n",
    "\n",
    "entradas: una lista de diccionarios, donde cada diccionario representa una entrada del historial clínico del paciente y contiene la información médica de la misma.\n",
    "La clase Historial deberá tener los siguientes métodos:\n",
    "\n",
    "agregar_entrada(sintomas, diagnostico, tratamiento): agrega una nueva entrada al historial con la información médica especificada.\n",
    "mostrar_entradas(): muestra por pantalla todas las entradas del historial clínico.\n",
    "El programa deberá permitir al usuario realizar las siguientes acciones:\n",
    "\n",
    "Agregar un nuevo paciente, ingresando su nombre, edad y género.\n",
    "Agregar una nueva entrada al historial clínico de un paciente, ingresando su nombre, sintomas, diagnóstico y tratamiento.\n",
    "Mostrar el historial clínico de un paciente.\n",
    "Mostrar todas las entradas del historial clínico de todos los pacientes.\n",
    "El programa deberá mostrar un menú al usuario con las diferentes opciones, y permitirle elegir la opción deseada ingresando un número.\n",
    "\"\"\""
   ]
  }
 ],
 "metadata": {
  "kernelspec": {
   "display_name": "Python 3 (ipykernel)",
   "language": "python",
   "name": "python3"
  },
  "language_info": {
   "codemirror_mode": {
    "name": "ipython",
    "version": 3
   },
   "file_extension": ".py",
   "mimetype": "text/x-python",
   "name": "python",
   "nbconvert_exporter": "python",
   "pygments_lexer": "ipython3",
   "version": "3.8.12"
  }
 },
 "nbformat": 4,
 "nbformat_minor": 4
}
