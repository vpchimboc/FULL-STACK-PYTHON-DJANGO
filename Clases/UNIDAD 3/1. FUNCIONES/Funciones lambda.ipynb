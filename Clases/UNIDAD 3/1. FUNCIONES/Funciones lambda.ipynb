{
 "cells": [
  {
   "attachments": {},
   "cell_type": "markdown",
   "metadata": {},
   "source": [
    "## FUNCIONES LAMBDA\n",
    "En Python, las funciones lambda son funciones anónimas \n",
    "que pueden ser definidas en línea y utilizadas para operaciones sencillas. \n",
    "La sintaxis básica de una función lambda es la siguiente:"
   ]
  },
  {
   "cell_type": "code",
   "execution_count": null,
   "metadata": {},
   "outputs": [],
   "source": [
    "#lambda argumentos: expresión"
   ]
  },
  {
   "attachments": {},
   "cell_type": "markdown",
   "metadata": {},
   "source": [
    "donde \"argumentos\" son los argumentos de la función separados por comas,\n",
    " y \"expresión\" es una expresión que devuelve el valor de la función."
   ]
  },
  {
   "attachments": {},
   "cell_type": "markdown",
   "metadata": {},
   "source": [
    "### Las funciones map(), filter() y reduce() \n",
    "son funciones incorporadas en Python \n",
    "que son comúnmente utilizadas junto con funciones lambda."
   ]
  },
  {
   "attachments": {},
   "cell_type": "markdown",
   "metadata": {},
   "source": [
    "### La función map() \n",
    "Toma una función y un iterable como argumentos, \n",
    "y devuelve un nuevo iterable con los resultados de aplicar la función \n",
    "a cada elemento del iterable. La sintaxis básica de map() es la siguiente:"
   ]
  },
  {
   "cell_type": "code",
   "execution_count": null,
   "metadata": {},
   "outputs": [],
   "source": [
    "#map(función, iterable)"
   ]
  },
  {
   "attachments": {},
   "cell_type": "markdown",
   "metadata": {},
   "source": [
    "donde \"función\" es la función que se aplicará a cada elemento del iterable, \n",
    "y \"iterable\" es el iterable que se procesará.\n",
    "Por ejemplo, si queremos multiplicar cada elemento de una lista por 2, \n",
    "podemos usar map() de la siguiente manera:"
   ]
  },
  {
   "cell_type": "code",
   "execution_count": 1,
   "metadata": {},
   "outputs": [
    {
     "name": "stdout",
     "output_type": "stream",
     "text": [
      "[2, 4, 6, 8, 10]\n"
     ]
    }
   ],
   "source": [
    "lista = [1, 2, 3, 4, 5]\n",
    "resultado = map(lambda x: x * 2, lista)\n",
    "print(list(resultado)) # [2, 4, 6, 8, 10]"
   ]
  },
  {
   "attachments": {},
   "cell_type": "markdown",
   "metadata": {},
   "source": [
    "### La función filter() \n",
    "toma una función y un iterable como argumentos, \n",
    "y devuelve un nuevo iterable que contiene los elementos \n",
    "del iterable para los cuales la función devuelve True. \n",
    "La sintaxis básica de filter() es la siguiente:"
   ]
  },
  {
   "cell_type": "code",
   "execution_count": null,
   "metadata": {},
   "outputs": [],
   "source": [
    "#filter(función, iterable)"
   ]
  },
  {
   "attachments": {},
   "cell_type": "markdown",
   "metadata": {},
   "source": [
    "donde \"función\" es la función que se aplicará a cada elemento \n",
    "del iterable, y \"iterable\" es el iterable que se procesará.\n",
    "Por ejemplo, si queremos filtrar los números impares de una lista, \n",
    "podemos usar filter() de la siguiente manera:"
   ]
  },
  {
   "cell_type": "code",
   "execution_count": 2,
   "metadata": {},
   "outputs": [
    {
     "name": "stdout",
     "output_type": "stream",
     "text": [
      "[1, 3, 5]\n"
     ]
    }
   ],
   "source": [
    "lista = [1, 2, 3, 4, 5]\n",
    "resultado = filter(lambda x: x % 2 == 1, lista)\n",
    "print(list(resultado)) # [1, 3, 5]"
   ]
  },
  {
   "attachments": {},
   "cell_type": "markdown",
   "metadata": {},
   "source": [
    "### La función reduce() \n",
    "Toma una función y un iterable como \n",
    "argumentos, y devuelve un único valor que resulta de aplicar \n",
    "la función a cada par de elementos del iterable. \n",
    "La sintaxis básica de reduce() es la siguiente:"
   ]
  },
  {
   "cell_type": "code",
   "execution_count": null,
   "metadata": {},
   "outputs": [],
   "source": [
    "#reduce(función, iterable)"
   ]
  },
  {
   "attachments": {},
   "cell_type": "markdown",
   "metadata": {},
   "source": [
    "donde \"función\" es la función que se aplicará a cada par de elementos \n",
    "del iterable, y \"iterable\" es el iterable que se procesará.\n",
    "Sin embargo, a partir de Python 3, reduce() se movió a la biblioteca functools, \n",
    "por lo que ahora debemos importarla antes de poder usarla. Por ejemplo, \n",
    "si queremos calcular la suma de una lista, podemos usar reduce() de la siguiente manera:"
   ]
  },
  {
   "cell_type": "code",
   "execution_count": 3,
   "metadata": {},
   "outputs": [
    {
     "name": "stdout",
     "output_type": "stream",
     "text": [
      "15\n"
     ]
    }
   ],
   "source": [
    "from functools import reduce\n",
    "lista = [1, 2, 3, 4, 5]\n",
    "resultado = reduce(lambda x, y: x + y, lista)\n",
    "print(resultado)"
   ]
  },
  {
   "attachments": {},
   "cell_type": "markdown",
   "metadata": {},
   "source": [
    "En este ejemplo, \n",
    "la función lambda recibe dos argumentos (x e y), \n",
    "y devuelve su suma. \n",
    "reduce() aplica la función a los elementos de la lista \n",
    "de manera recursiva, acumulando el resultado en cada iteración. \n",
    "En la primera iteración, la función recibe los primeros dos elementos \n",
    "de la lista. En la segunda iteración, la función recibe el resultado \n",
    "de la primera iteración y el siguiente elemento de la lista, y así sucesivamente."
   ]
  },
  {
   "attachments": {},
   "cell_type": "markdown",
   "metadata": {},
   "source": [
    "## EJEMPLOS\n"
   ]
  },
  {
   "cell_type": "code",
   "execution_count": 4,
   "metadata": {},
   "outputs": [
    {
     "name": "stdout",
     "output_type": "stream",
     "text": [
      "Ejemplo de map() con función lambda:\n",
      "multiplicar cada elemento de una lista por 2\n",
      "[2, 4, 6, 8, 10]\n"
     ]
    }
   ],
   "source": [
    "print(\"Ejemplo de map() con función lambda:\")\n",
    "print(\"multiplicar cada elemento de una lista por 2\")\n",
    "lista = [1, 2, 3, 4, 5]\n",
    "resultado = map(lambda x: x * 2, lista)\n",
    "print(list(resultado)) "
   ]
  },
  {
   "cell_type": "code",
   "execution_count": 5,
   "metadata": {},
   "outputs": [
    {
     "name": "stdout",
     "output_type": "stream",
     "text": [
      "Ejemplo de filter() con función lambda:\n",
      "filtrar los números impares de una lista\n",
      "[1, 3, 5]\n"
     ]
    }
   ],
   "source": [
    "print(\"Ejemplo de filter() con función lambda:\")\n",
    "print(\"filtrar los números impares de una lista\")\n",
    "lista = [1, 2, 3, 4, 5]\n",
    "resultado = filter(lambda x: x % 2 == 1, lista)\n",
    "print(list(resultado)) "
   ]
  },
  {
   "cell_type": "code",
   "execution_count": 6,
   "metadata": {},
   "outputs": [
    {
     "name": "stdout",
     "output_type": "stream",
     "text": [
      "Ejemplo de reduce() con función lambda:\n",
      "calcular la suma de una lista\n",
      "15\n"
     ]
    }
   ],
   "source": [
    "print(\"Ejemplo de reduce() con función lambda:\")\n",
    "print(\"calcular la suma de una lista\")\n",
    "from functools import reduce\n",
    "lista = [1, 2, 3, 4, 5]\n",
    "resultado = reduce(lambda x, y: x + y, lista)\n",
    "print(resultado) "
   ]
  },
  {
   "attachments": {},
   "cell_type": "markdown",
   "metadata": {},
   "source": [
    "EJERCICIOS DE APLICACIÓN"
   ]
  },
  {
   "cell_type": "code",
   "execution_count": 8,
   "metadata": {},
   "outputs": [
    {
     "name": "stdout",
     "output_type": "stream",
     "text": [
      "[4, 5, 5, 4, 5]\n"
     ]
    }
   ],
   "source": [
    "#Ejercicio 1: Dado un listado de cadenas, obtener un nuevo listado con la longitud de cada cadena.\n",
    "palabras = [\"hola\", \"adios\", \"amigo\", \"azul\", \"abril\"]\n",
    "#COLOCA TU CÓDIGO AQUÍ\n",
    "\n",
    "print(resultado)"
   ]
  },
  {
   "cell_type": "code",
   "execution_count": 9,
   "metadata": {},
   "outputs": [
    {
     "name": "stdout",
     "output_type": "stream",
     "text": [
      "[3, 6, 9]\n"
     ]
    }
   ],
   "source": [
    "#Ejercicio 2: Dado un listado de números, obtener un nuevo listado con los números que son divisibles entre 3.\n",
    "numeros = [1, 2, 3, 4, 5, 6, 7, 8, 9, 10]\n",
    "#COLOCA TU CÓDIGO AQUÍ\n",
    "print(resultado) "
   ]
  },
  {
   "cell_type": "code",
   "execution_count": 12,
   "metadata": {},
   "outputs": [
    {
     "name": "stdout",
     "output_type": "stream",
     "text": [
      "120\n"
     ]
    }
   ],
   "source": [
    "#Ejercicio 3: Dado un listado de números, obtener la multiplicación de todos los números.\n",
    "from functools import reduce\n",
    "numeros = [1, 2, 3, 4, 5]\n",
    "#COLOCA TU CÓDIGO AQUÍ\n",
    "print(resultado) "
   ]
  },
  {
   "cell_type": "code",
   "execution_count": 18,
   "metadata": {},
   "outputs": [
    {
     "name": "stdout",
     "output_type": "stream",
     "text": [
      "['septiembre']\n"
     ]
    }
   ],
   "source": [
    "#Ejercicio 4: Dado un listado de palabras, obtener un nuevo listado con las palabras que tienen más de 5 letras.\n",
    "palabras = [\"hola\", \"adios\", \"amigo\", \"azul\", \"septiembre\"]\n",
    "#COLOCA TU CÓDIGO AQUÍ\n",
    "print(resultado) "
   ]
  },
  {
   "cell_type": "code",
   "execution_count": 19,
   "metadata": {},
   "outputs": [
    {
     "name": "stdout",
     "output_type": "stream",
     "text": [
      "[1, 8, 27, 64, 125, 216, 343, 512, 729, 1000]\n"
     ]
    }
   ],
   "source": [
    "#Ejercicio 5: Dado un listado de números, obtener un nuevo listado con los números elevados a la tercera potencia.\n",
    "numeros = [1, 2, 3, 4, 5, 6, 7, 8, 9, 10]\n",
    "#COLOCA TU CÓDIGO AQUÍ\n",
    "print(resultado)"
   ]
  }
 ],
 "metadata": {
  "kernelspec": {
   "display_name": "Powerbi",
   "language": "python",
   "name": "python3"
  },
  "language_info": {
   "codemirror_mode": {
    "name": "ipython",
    "version": 3
   },
   "file_extension": ".py",
   "mimetype": "text/x-python",
   "name": "python",
   "nbconvert_exporter": "python",
   "pygments_lexer": "ipython3",
   "version": "3.9.16"
  },
  "orig_nbformat": 4
 },
 "nbformat": 4,
 "nbformat_minor": 2
}
